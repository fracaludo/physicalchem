{
 "cells": [
  {
   "cell_type": "code",
   "execution_count": 2,
   "metadata": {},
   "outputs": [
    {
     "name": "stdout",
     "output_type": "stream",
     "text": [
      "Wavelength (nm)    320.000000\n",
      "0                    1.000000\n",
      "3                    0.981030\n",
      "6                    0.919621\n",
      "9                    0.896175\n",
      "12                   0.951267\n",
      "15                   0.901569\n",
      "18                   0.956691\n",
      "21                   1.000000\n",
      "24                   1.000000\n",
      "30                   1.000000\n",
      "36                   0.954162\n",
      "42                   0.923232\n",
      "48                   0.870598\n",
      "dtype: float64\n"
     ]
    }
   ],
   "source": [
    "import pandas as pd\n",
    "\n",
    "file_path = \"/Users/ludovica/Documents/Bachelor/BA6/Physical Chemistry/Challenge A/Fluo/1 method.xlsx\"\n",
    "sheet_name = \"normalised \"\n",
    "\n",
    "# Load the Excel file\n",
    "df = pd.read_excel(file_path, sheet_name=sheet_name)\n",
    "\n",
    "# Define the wavelength range\n",
    "wavelength_min = 280  \n",
    "wavelength_max = 320  \n",
    "\n",
    "# Identify the wavelength column (assuming it's the first column)\n",
    "wavelength_col = df.columns[0]\n",
    "\n",
    "# Filter data within the specified range\n",
    "filtered_df = df[(df[wavelength_col] >= wavelength_min) & (df[wavelength_col] <= wavelength_max)]\n",
    "\n",
    "# Get the maximum value for each column within the range\n",
    "max_values = filtered_df.max()\n",
    "\n",
    "# Print results\n",
    "print(max_values)\n"
   ]
  }
 ],
 "metadata": {
  "kernelspec": {
   "display_name": "ppchem",
   "language": "python",
   "name": "python3"
  },
  "language_info": {
   "codemirror_mode": {
    "name": "ipython",
    "version": 3
   },
   "file_extension": ".py",
   "mimetype": "text/x-python",
   "name": "python",
   "nbconvert_exporter": "python",
   "pygments_lexer": "ipython3",
   "version": "3.10.14"
  }
 },
 "nbformat": 4,
 "nbformat_minor": 2
}
